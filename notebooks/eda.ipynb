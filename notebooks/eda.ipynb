{
 "cells": [
  {
   "cell_type": "code",
   "execution_count": 1,
   "id": "230ea482-29bc-4bdf-aa12-c2c02c1c19af",
   "metadata": {},
   "outputs": [],
   "source": [
    "# Exploratory Data Analysis\n",
    "import pandas as pd\n",
    "import matplotlib.pyplot as plt"
   ]
  },
  {
   "cell_type": "code",
   "execution_count": 4,
   "id": "5dc16460-f94d-45c8-bf76-0c05e654aed1",
   "metadata": {},
   "outputs": [],
   "source": [
    "# Base path from notebook to data folder\n",
    "BASE = '../src/data/'"
   ]
  },
  {
   "cell_type": "code",
   "execution_count": 5,
   "id": "f9802628-f6ac-4e90-ad3c-69709d270dcb",
   "metadata": {},
   "outputs": [],
   "source": [
    "# Load tables\n",
    "products = pd.read_csv(BASE + 'products.csv')\n",
    "edges    = pd.read_csv(BASE + 'edges.csv')\n",
    "reviews  = pd.read_csv(BASE + 'reviews.csv', parse_dates=['date'])"
   ]
  },
  {
   "cell_type": "code",
   "execution_count": 6,
   "id": "fcb85fd3-9e06-411d-b7be-0dd568a78ea4",
   "metadata": {},
   "outputs": [
    {
     "data": {
      "text/html": [
       "<div>\n",
       "<style scoped>\n",
       "    .dataframe tbody tr th:only-of-type {\n",
       "        vertical-align: middle;\n",
       "    }\n",
       "\n",
       "    .dataframe tbody tr th {\n",
       "        vertical-align: top;\n",
       "    }\n",
       "\n",
       "    .dataframe thead th {\n",
       "        text-align: right;\n",
       "    }\n",
       "</style>\n",
       "<table border=\"1\" class=\"dataframe\">\n",
       "  <thead>\n",
       "    <tr style=\"text-align: right;\">\n",
       "      <th></th>\n",
       "      <th>Id</th>\n",
       "      <th>ASIN</th>\n",
       "      <th>title</th>\n",
       "      <th>salesrank</th>\n",
       "      <th>group</th>\n",
       "      <th>average_rating</th>\n",
       "      <th>num_reviews</th>\n",
       "    </tr>\n",
       "  </thead>\n",
       "  <tbody>\n",
       "    <tr>\n",
       "      <th>0</th>\n",
       "      <td>0</td>\n",
       "      <td>0771044445</td>\n",
       "      <td>NaN</td>\n",
       "      <td>300490</td>\n",
       "      <td>NaN</td>\n",
       "      <td>NaN</td>\n",
       "      <td>NaN</td>\n",
       "    </tr>\n",
       "    <tr>\n",
       "      <th>1</th>\n",
       "      <td>1</td>\n",
       "      <td>0827229534</td>\n",
       "      <td>Patterns of Preaching: A Sermon Sampler</td>\n",
       "      <td>396585</td>\n",
       "      <td>Book</td>\n",
       "      <td>5.0</td>\n",
       "      <td>2.0</td>\n",
       "    </tr>\n",
       "    <tr>\n",
       "      <th>2</th>\n",
       "      <td>2</td>\n",
       "      <td>0738700797</td>\n",
       "      <td>Candlemas: Feast of Flames</td>\n",
       "      <td>168596</td>\n",
       "      <td>Book</td>\n",
       "      <td>4.5</td>\n",
       "      <td>12.0</td>\n",
       "    </tr>\n",
       "    <tr>\n",
       "      <th>3</th>\n",
       "      <td>3</td>\n",
       "      <td>0486287785</td>\n",
       "      <td>World War II Allied Fighter Planes Trading Cards</td>\n",
       "      <td>1270652</td>\n",
       "      <td>Book</td>\n",
       "      <td>5.0</td>\n",
       "      <td>1.0</td>\n",
       "    </tr>\n",
       "    <tr>\n",
       "      <th>4</th>\n",
       "      <td>4</td>\n",
       "      <td>0842328327</td>\n",
       "      <td>Life Application Bible Commentary: 1 and 2 Tim...</td>\n",
       "      <td>631289</td>\n",
       "      <td>Book</td>\n",
       "      <td>4.0</td>\n",
       "      <td>1.0</td>\n",
       "    </tr>\n",
       "  </tbody>\n",
       "</table>\n",
       "</div>"
      ],
      "text/plain": [
       "   Id        ASIN                                              title  \\\n",
       "0   0  0771044445                                                NaN   \n",
       "1   1  0827229534            Patterns of Preaching: A Sermon Sampler   \n",
       "2   2  0738700797                         Candlemas: Feast of Flames   \n",
       "3   3  0486287785   World War II Allied Fighter Planes Trading Cards   \n",
       "4   4  0842328327  Life Application Bible Commentary: 1 and 2 Tim...   \n",
       "\n",
       "   salesrank group  average_rating  num_reviews  \n",
       "0     300490   NaN             NaN          NaN  \n",
       "1     396585  Book             5.0          2.0  \n",
       "2     168596  Book             4.5         12.0  \n",
       "3    1270652  Book             5.0          1.0  \n",
       "4     631289  Book             4.0          1.0  "
      ]
     },
     "metadata": {},
     "output_type": "display_data"
    },
    {
     "data": {
      "text/html": [
       "<div>\n",
       "<style scoped>\n",
       "    .dataframe tbody tr th:only-of-type {\n",
       "        vertical-align: middle;\n",
       "    }\n",
       "\n",
       "    .dataframe tbody tr th {\n",
       "        vertical-align: top;\n",
       "    }\n",
       "\n",
       "    .dataframe thead th {\n",
       "        text-align: right;\n",
       "    }\n",
       "</style>\n",
       "<table border=\"1\" class=\"dataframe\">\n",
       "  <thead>\n",
       "    <tr style=\"text-align: right;\">\n",
       "      <th></th>\n",
       "      <th>source</th>\n",
       "      <th>target</th>\n",
       "    </tr>\n",
       "  </thead>\n",
       "  <tbody>\n",
       "    <tr>\n",
       "      <th>0</th>\n",
       "      <td>0827229534</td>\n",
       "      <td>0804215715</td>\n",
       "    </tr>\n",
       "    <tr>\n",
       "      <th>1</th>\n",
       "      <td>0827229534</td>\n",
       "      <td>156101074X</td>\n",
       "    </tr>\n",
       "    <tr>\n",
       "      <th>2</th>\n",
       "      <td>0827229534</td>\n",
       "      <td>0687023955</td>\n",
       "    </tr>\n",
       "    <tr>\n",
       "      <th>3</th>\n",
       "      <td>0827229534</td>\n",
       "      <td>0687074231</td>\n",
       "    </tr>\n",
       "    <tr>\n",
       "      <th>4</th>\n",
       "      <td>0827229534</td>\n",
       "      <td>082721619X</td>\n",
       "    </tr>\n",
       "  </tbody>\n",
       "</table>\n",
       "</div>"
      ],
      "text/plain": [
       "       source      target\n",
       "0  0827229534  0804215715\n",
       "1  0827229534  156101074X\n",
       "2  0827229534  0687023955\n",
       "3  0827229534  0687074231\n",
       "4  0827229534  082721619X"
      ]
     },
     "metadata": {},
     "output_type": "display_data"
    },
    {
     "data": {
      "text/html": [
       "<div>\n",
       "<style scoped>\n",
       "    .dataframe tbody tr th:only-of-type {\n",
       "        vertical-align: middle;\n",
       "    }\n",
       "\n",
       "    .dataframe tbody tr th {\n",
       "        vertical-align: top;\n",
       "    }\n",
       "\n",
       "    .dataframe thead th {\n",
       "        text-align: right;\n",
       "    }\n",
       "</style>\n",
       "<table border=\"1\" class=\"dataframe\">\n",
       "  <thead>\n",
       "    <tr style=\"text-align: right;\">\n",
       "      <th></th>\n",
       "      <th>ASIN</th>\n",
       "      <th>date</th>\n",
       "      <th>rating</th>\n",
       "    </tr>\n",
       "  </thead>\n",
       "  <tbody>\n",
       "    <tr>\n",
       "      <th>0</th>\n",
       "      <td>0827229534</td>\n",
       "      <td>2000-07-28</td>\n",
       "      <td>5</td>\n",
       "    </tr>\n",
       "    <tr>\n",
       "      <th>1</th>\n",
       "      <td>0827229534</td>\n",
       "      <td>2003-12-14</td>\n",
       "      <td>5</td>\n",
       "    </tr>\n",
       "    <tr>\n",
       "      <th>2</th>\n",
       "      <td>0738700797</td>\n",
       "      <td>2001-12-16</td>\n",
       "      <td>5</td>\n",
       "    </tr>\n",
       "    <tr>\n",
       "      <th>3</th>\n",
       "      <td>0738700797</td>\n",
       "      <td>2002-01-07</td>\n",
       "      <td>4</td>\n",
       "    </tr>\n",
       "    <tr>\n",
       "      <th>4</th>\n",
       "      <td>0738700797</td>\n",
       "      <td>2002-01-24</td>\n",
       "      <td>5</td>\n",
       "    </tr>\n",
       "  </tbody>\n",
       "</table>\n",
       "</div>"
      ],
      "text/plain": [
       "         ASIN       date  rating\n",
       "0  0827229534 2000-07-28       5\n",
       "1  0827229534 2003-12-14       5\n",
       "2  0738700797 2001-12-16       5\n",
       "3  0738700797 2002-01-07       4\n",
       "4  0738700797 2002-01-24       5"
      ]
     },
     "metadata": {},
     "output_type": "display_data"
    }
   ],
   "source": [
    "# Quick look\n",
    "display(products.head())\n",
    "display(edges.head())\n",
    "display(reviews.head())"
   ]
  },
  {
   "cell_type": "code",
   "execution_count": 7,
   "id": "204e31b1-2665-4dcc-8284-f8d2b77f832a",
   "metadata": {},
   "outputs": [
    {
     "name": "stdout",
     "output_type": "stream",
     "text": [
      "Id                   0\n",
      "ASIN                 0\n",
      "title             5868\n",
      "salesrank            0\n",
      "group             5868\n",
      "average_rating    5868\n",
      "num_reviews       5868\n",
      "dtype: int64\n",
      "Review date nulls: 0\n"
     ]
    }
   ],
   "source": [
    "# Products: check for NaNs\n",
    "print(products.isna().sum())\n",
    "print('Review date nulls:', reviews['date'].isna().sum())"
   ]
  },
  {
   "cell_type": "code",
   "execution_count": 8,
   "id": "4505343c-8cde-43cb-9fbd-363c82ef318f",
   "metadata": {},
   "outputs": [
    {
     "name": "stdout",
     "output_type": "stream",
     "text": [
      "Dropped 5868 products without titles → 542684 remaining\n"
     ]
    }
   ],
   "source": [
    "# Drop products missing titles (and thus group)\n",
    "before = len(products)\n",
    "products = products.dropna(subset=['title'])\n",
    "after = len(products)\n",
    "print(f\"Dropped {before - after} products without titles → {after} remaining\")"
   ]
  },
  {
   "cell_type": "code",
   "execution_count": 9,
   "id": "5b2f84ec-13d8-464c-ae5d-b612cea887b9",
   "metadata": {},
   "outputs": [],
   "source": [
    "# Fill any missing group labels\n",
    "products['group'] = products['group'].fillna('Unknown')"
   ]
  },
  {
   "cell_type": "code",
   "execution_count": 10,
   "id": "6f71dda1-55ce-4236-9ae2-c407d3b415fc",
   "metadata": {},
   "outputs": [
    {
     "name": "stdout",
     "output_type": "stream",
     "text": [
      "Dropped 0 reviews with bad dates → 7593109 remaining\n"
     ]
    }
   ],
   "source": [
    "# Drop reviews with invalid dates\n",
    "before_r = len(reviews)\n",
    "reviews = reviews.dropna(subset=['date'])\n",
    "after_r = len(reviews)\n",
    "print(f\"Dropped {before_r - after_r} reviews with bad dates → {after_r} remaining\")"
   ]
  },
  {
   "cell_type": "code",
   "execution_count": 11,
   "id": "2ced3262-73f3-4910-855e-575b95ffbf45",
   "metadata": {},
   "outputs": [
    {
     "name": "stdout",
     "output_type": "stream",
     "text": [
      "Id                0\n",
      "ASIN              0\n",
      "title             0\n",
      "salesrank         0\n",
      "group             0\n",
      "average_rating    0\n",
      "num_reviews       0\n",
      "dtype: int64\n",
      "Review date nulls: 0\n"
     ]
    }
   ],
   "source": [
    "# Verify no more NaNs\n",
    "print(products.isna().sum())\n",
    "print('Review date nulls:', reviews['date'].isna().sum())"
   ]
  },
  {
   "cell_type": "code",
   "execution_count": 12,
   "id": "534fb8d3-c173-47ed-8cbd-c232f6b3d8dd",
   "metadata": {},
   "outputs": [
    {
     "name": "stdout",
     "output_type": "stream",
     "text": [
      "Reviews null counts:\n",
      "ASIN      0\n",
      "date      0\n",
      "rating    0\n",
      "dtype: int64\n"
     ]
    }
   ],
   "source": [
    "# Reviews: check for NaNs in date or rating\n",
    "print(\"Reviews null counts:\")\n",
    "print(reviews.isna().sum())"
   ]
  },
  {
   "cell_type": "code",
   "execution_count": 13,
   "id": "f436d3cf-5ef6-41ae-8d35-7f357413b593",
   "metadata": {},
   "outputs": [
    {
     "name": "stdout",
     "output_type": "stream",
     "text": [
      "\n",
      "Edges null counts:\n",
      "source    0\n",
      "target    0\n",
      "dtype: int64\n"
     ]
    }
   ],
   "source": [
    "# Edges: check for NaNs in source or target\n",
    "print(\"\\nEdges null counts:\")\n",
    "print(edges.isna().sum())"
   ]
  },
  {
   "cell_type": "code",
   "execution_count": 14,
   "id": "2f58bea6-c38f-4462-bd72-dc3352bd90fd",
   "metadata": {},
   "outputs": [
    {
     "name": "stdout",
     "output_type": "stream",
     "text": [
      "Dropped 557325 edges to discontinued/nonexistent ASINs → 1231400 remaining\n"
     ]
    }
   ],
   "source": [
    "valid_asins = set(products['ASIN'])\n",
    "before = len(edges)\n",
    "edges = edges[\n",
    "    edges['source'].isin(valid_asins) &\n",
    "    edges['target'].isin(valid_asins)\n",
    "]\n",
    "after = len(edges)\n",
    "print(f\"Dropped {before - after} edges to discontinued/nonexistent ASINs → {after} remaining\")"
   ]
  },
  {
   "cell_type": "code",
   "execution_count": 28,
   "id": "360e75db-7db6-4584-b1ac-1ca1b24c16ae",
   "metadata": {
    "scrolled": true
   },
   "outputs": [
    {
     "name": "stdout",
     "output_type": "stream",
     "text": [
      "Dropped 0 malformed edges → 1231400 remaining\n"
     ]
    }
   ],
   "source": [
    "# Drop any malformed edges\n",
    "before = len(edges)\n",
    "edges = edges.dropna(subset=['source', 'target'])\n",
    "after = len(edges)\n",
    "print(f\"Dropped {before - after} malformed edges → {after} remaining\")"
   ]
  },
  {
   "cell_type": "code",
   "execution_count": 16,
   "id": "9f979aa7-7ed8-4a5d-95a0-81e576bb579a",
   "metadata": {},
   "outputs": [
    {
     "name": "stderr",
     "output_type": "stream",
     "text": [
      "C:\\Users\\karti\\AppData\\Local\\Temp\\ipykernel_22100\\836050620.py:11: FutureWarning: \n",
      "\n",
      "Passing `palette` without assigning `hue` is deprecated and will be removed in v0.14.0. Assign the `x` variable to `hue` and set `legend=False` for the same effect.\n",
      "\n",
      "  sns.countplot(data=reviews, x='rating', palette='viridis')\n"
     ]
    },
    {
     "data": {
      "image/png": "[encoded data removed]",
      "text/plain": [
       "<Figure size 800x500 with 1 Axes>"
      ]
     },
     "metadata": {},
     "output_type": "display_data"
    }
   ],
   "source": [
    "# Distribution of ratings\n",
    "import pandas as pd\n",
    "import matplotlib.pyplot as plt\n",
    "import seaborn as sns\n",
    "\n",
    "# Load reviews data\n",
    "# reviews_df = pd.read_csv('reviews.csv')\n",
    "\n",
    "# Plot distribution of ratings\n",
    "plt.figure(figsize=(8, 5))\n",
    "sns.countplot(data=reviews, x='rating', palette='viridis')\n",
    "plt.title('Distribution of Ratings')\n",
    "plt.xlabel('Rating')\n",
    "plt.ylabel('Count')\n",
    "plt.grid(True, linestyle='--', alpha=0.5)\n",
    "plt.show()\n"
   ]
  },
  {
   "cell_type": "code",
   "execution_count": 21,
   "id": "f1323c39-cedb-49b8-8171-02738804894f",
   "metadata": {},
   "outputs": [
    {
     "name": "stdout",
     "output_type": "stream",
     "text": [
      "Top 5 Most Bought Products:\n",
      "      ASIN                                                     title  salesrank\n",
      "6300215539                                     The War of the Worlds          1\n",
      "6301627024                                         Shirley Valentine          2\n",
      "B00005T33H Leslie Sansone - Walk Away the Pounds - Super Fat Burning          6\n",
      "6302946387                                Robin Hood - Men in Tights          7\n",
      "6301729897                  Richard Simmons - Sweatin' to the Oldies          8\n"
     ]
    }
   ],
   "source": [
    "import pandas as pd\n",
    "\n",
    "# Load product data\n",
    "products_df = products.copy()  # Use a copy to avoid modifying original\n",
    "\n",
    "# Convert 'salesrank' to numeric, coercing errors to NaN\n",
    "products_df['salesrank'] = pd.to_numeric(products_df['salesrank'], errors='coerce')\n",
    "\n",
    "# Drop rows with missing or invalid (<= 0) salesrank values\n",
    "products_df = products_df[products_df['salesrank'] > 0]\n",
    "\n",
    "# Sort products by salesrank (ascending: lower = more bought)\n",
    "most_bought = products_df.sort_values(by='salesrank').reset_index(drop=True)\n",
    "\n",
    "# Display top 5 most bought products\n",
    "print(\"Top 5 Most Bought Products:\")\n",
    "print(most_bought[['ASIN', 'title', 'salesrank']].head(5).to_string(index=False))\n"
   ]
  },
  {
   "cell_type": "code",
   "execution_count": 22,
   "id": "e14d5f8c-2924-47dc-97e1-ee6639081a97",
   "metadata": {},
   "outputs": [
    {
     "data": {
      "image/png": "[encoded data removed]",
      "text/plain": [
       "<Figure size 1000x600 with 1 Axes>"
      ]
     },
     "metadata": {},
     "output_type": "display_data"
    }
   ],
   "source": [
    "import matplotlib.pyplot as plt\n",
    "import seaborn as sns\n",
    "\n",
    "# Ensure 'date' is in datetime format\n",
    "reviews['date'] = pd.to_datetime(reviews['date'])\n",
    "\n",
    "# Extract year from the date\n",
    "reviews['year'] = reviews['date'].dt.year\n",
    "\n",
    "# Pick top 3 most bought products\n",
    "top_asins = most_bought['ASIN'].head(3).tolist()\n",
    "\n",
    "# Filter reviews for those ASINs\n",
    "top_reviews = reviews[reviews['ASIN'].isin(top_asins)]\n",
    "\n",
    "# Group by ASIN and year to get average rating\n",
    "avg_ratings = top_reviews.groupby(['ASIN', 'year'])['rating'].mean().reset_index()\n",
    "\n",
    "# Plot\n",
    "plt.figure(figsize=(10, 6))\n",
    "sns.lineplot(data=avg_ratings, x='year', y='rating', hue='ASIN', marker='o')\n",
    "\n",
    "plt.title('Average Rating Over the Years for Top 3 Most Bought Products')\n",
    "plt.xlabel('Year')\n",
    "plt.ylabel('Average Rating')\n",
    "plt.xticks(avg_ratings['year'].unique())  # Make sure all years are shown\n",
    "plt.legend(title='ASIN')\n",
    "plt.grid(True)\n",
    "plt.tight_layout()\n",
    "plt.show()\n"
   ]
  },
  {
   "cell_type": "code",
   "execution_count": null,
   "id": "ae3a18e8-2ce0-44a4-bb86-a3d38835fa92",
   "metadata": {},
   "outputs": [],
   "source": []
  }
 ],
 "metadata": {
  "kernelspec": {
   "display_name": "Python 3 (ipykernel)",
   "language": "python",
   "name": "python3"
  },
  "language_info": {
   "codemirror_mode": {
    "name": "ipython",
    "version": 3
   },
   "file_extension": ".py",
   "mimetype": "text/x-python",
   "name": "python",
   "nbconvert_exporter": "python",
   "pygments_lexer": "ipython3",
   "version": "3.10.5"
  }
 },
 "nbformat": 4,
 "nbformat_minor": 5
}
